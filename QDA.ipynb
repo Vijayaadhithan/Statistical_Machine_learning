{
 "cells": [
  {
   "cell_type": "code",
   "execution_count": 1,
   "id": "d9b1e8b0",
   "metadata": {},
   "outputs": [],
   "source": [
    "import pandas as pd\n",
    "import numpy as np\n",
    "import matplotlib.pyplot as plt\n",
    "\n",
    "import sklearn.preprocessing as skl_pre\n",
    "import sklearn.linear_model as skl_lm\n",
    "import sklearn.discriminant_analysis as skl_da\n",
    "import sklearn.neighbors as skl_nb\n",
    "from sklearn.model_selection import train_test_split\n",
    "#from IPython.display import set_matplotlib_formats\n",
    "#set_matplotlib_formats('png')\n",
    "from IPython.core.pylabtools import figsize\n",
    "figsize(10, 6) # Width and hight\n",
    "#plt.style.use('seaborn-white')\n",
    "from sklearn.model_selection import GridSearchCV"
   ]
  },
  {
   "cell_type": "code",
   "execution_count": 2,
   "id": "f7e1ff7b",
   "metadata": {},
   "outputs": [],
   "source": [
    "dataframe = pd.read_csv(\"train.csv\")"
   ]
  },
  {
   "cell_type": "code",
   "execution_count": 3,
   "id": "f91a1afd",
   "metadata": {},
   "outputs": [
    {
     "data": {
      "text/html": [
       "<div>\n",
       "<style scoped>\n",
       "    .dataframe tbody tr th:only-of-type {\n",
       "        vertical-align: middle;\n",
       "    }\n",
       "\n",
       "    .dataframe tbody tr th {\n",
       "        vertical-align: top;\n",
       "    }\n",
       "\n",
       "    .dataframe thead th {\n",
       "        text-align: right;\n",
       "    }\n",
       "</style>\n",
       "<table border=\"1\" class=\"dataframe\">\n",
       "  <thead>\n",
       "    <tr style=\"text-align: right;\">\n",
       "      <th></th>\n",
       "      <th>Number words female</th>\n",
       "      <th>Total words</th>\n",
       "      <th>Number of words lead</th>\n",
       "      <th>Difference in words lead and co-lead</th>\n",
       "      <th>Number of male actors</th>\n",
       "      <th>Year</th>\n",
       "      <th>Number of female actors</th>\n",
       "      <th>Number words male</th>\n",
       "      <th>Gross</th>\n",
       "      <th>Mean Age Male</th>\n",
       "      <th>Mean Age Female</th>\n",
       "      <th>Age Lead</th>\n",
       "      <th>Age Co-Lead</th>\n",
       "      <th>Lead</th>\n",
       "      <th>total_male_words</th>\n",
       "      <th>total_female_words</th>\n",
       "      <th>dominant</th>\n",
       "    </tr>\n",
       "  </thead>\n",
       "  <tbody>\n",
       "    <tr>\n",
       "      <th>0</th>\n",
       "      <td>1512</td>\n",
       "      <td>6394</td>\n",
       "      <td>2251.0</td>\n",
       "      <td>343</td>\n",
       "      <td>2</td>\n",
       "      <td>1995</td>\n",
       "      <td>5</td>\n",
       "      <td>2631</td>\n",
       "      <td>142.0</td>\n",
       "      <td>51.500000</td>\n",
       "      <td>42.333333</td>\n",
       "      <td>46.0</td>\n",
       "      <td>65.0</td>\n",
       "      <td>Female</td>\n",
       "      <td>2631.0</td>\n",
       "      <td>3763.0</td>\n",
       "      <td>0</td>\n",
       "    </tr>\n",
       "    <tr>\n",
       "      <th>1</th>\n",
       "      <td>1524</td>\n",
       "      <td>8780</td>\n",
       "      <td>2020.0</td>\n",
       "      <td>1219</td>\n",
       "      <td>9</td>\n",
       "      <td>2001</td>\n",
       "      <td>4</td>\n",
       "      <td>5236</td>\n",
       "      <td>37.0</td>\n",
       "      <td>39.125000</td>\n",
       "      <td>29.333333</td>\n",
       "      <td>58.0</td>\n",
       "      <td>34.0</td>\n",
       "      <td>Male</td>\n",
       "      <td>7256.0</td>\n",
       "      <td>1524.0</td>\n",
       "      <td>1</td>\n",
       "    </tr>\n",
       "    <tr>\n",
       "      <th>2</th>\n",
       "      <td>155</td>\n",
       "      <td>4176</td>\n",
       "      <td>942.0</td>\n",
       "      <td>787</td>\n",
       "      <td>7</td>\n",
       "      <td>1968</td>\n",
       "      <td>1</td>\n",
       "      <td>3079</td>\n",
       "      <td>376.0</td>\n",
       "      <td>42.500000</td>\n",
       "      <td>37.000000</td>\n",
       "      <td>46.0</td>\n",
       "      <td>37.0</td>\n",
       "      <td>Male</td>\n",
       "      <td>4021.0</td>\n",
       "      <td>155.0</td>\n",
       "      <td>1</td>\n",
       "    </tr>\n",
       "    <tr>\n",
       "      <th>3</th>\n",
       "      <td>1073</td>\n",
       "      <td>9855</td>\n",
       "      <td>3440.0</td>\n",
       "      <td>2623</td>\n",
       "      <td>12</td>\n",
       "      <td>2002</td>\n",
       "      <td>2</td>\n",
       "      <td>5342</td>\n",
       "      <td>19.0</td>\n",
       "      <td>35.222222</td>\n",
       "      <td>21.500000</td>\n",
       "      <td>33.0</td>\n",
       "      <td>23.0</td>\n",
       "      <td>Male</td>\n",
       "      <td>8782.0</td>\n",
       "      <td>1073.0</td>\n",
       "      <td>1</td>\n",
       "    </tr>\n",
       "    <tr>\n",
       "      <th>4</th>\n",
       "      <td>1317</td>\n",
       "      <td>7688</td>\n",
       "      <td>3835.0</td>\n",
       "      <td>3149</td>\n",
       "      <td>8</td>\n",
       "      <td>1988</td>\n",
       "      <td>4</td>\n",
       "      <td>2536</td>\n",
       "      <td>40.0</td>\n",
       "      <td>45.250000</td>\n",
       "      <td>45.000000</td>\n",
       "      <td>36.0</td>\n",
       "      <td>39.0</td>\n",
       "      <td>Male</td>\n",
       "      <td>6371.0</td>\n",
       "      <td>1317.0</td>\n",
       "      <td>1</td>\n",
       "    </tr>\n",
       "  </tbody>\n",
       "</table>\n",
       "</div>"
      ],
      "text/plain": [
       "   Number words female  Total words  Number of words lead  \\\n",
       "0                 1512         6394                2251.0   \n",
       "1                 1524         8780                2020.0   \n",
       "2                  155         4176                 942.0   \n",
       "3                 1073         9855                3440.0   \n",
       "4                 1317         7688                3835.0   \n",
       "\n",
       "   Difference in words lead and co-lead  Number of male actors  Year  \\\n",
       "0                                   343                      2  1995   \n",
       "1                                  1219                      9  2001   \n",
       "2                                   787                      7  1968   \n",
       "3                                  2623                     12  2002   \n",
       "4                                  3149                      8  1988   \n",
       "\n",
       "   Number of female actors  Number words male  Gross  Mean Age Male  \\\n",
       "0                        5               2631  142.0      51.500000   \n",
       "1                        4               5236   37.0      39.125000   \n",
       "2                        1               3079  376.0      42.500000   \n",
       "3                        2               5342   19.0      35.222222   \n",
       "4                        4               2536   40.0      45.250000   \n",
       "\n",
       "   Mean Age Female  Age Lead  Age Co-Lead    Lead  total_male_words  \\\n",
       "0        42.333333      46.0         65.0  Female            2631.0   \n",
       "1        29.333333      58.0         34.0    Male            7256.0   \n",
       "2        37.000000      46.0         37.0    Male            4021.0   \n",
       "3        21.500000      33.0         23.0    Male            8782.0   \n",
       "4        45.000000      36.0         39.0    Male            6371.0   \n",
       "\n",
       "   total_female_words  dominant  \n",
       "0              3763.0         0  \n",
       "1              1524.0         1  \n",
       "2               155.0         1  \n",
       "3              1073.0         1  \n",
       "4              1317.0         1  "
      ]
     },
     "execution_count": 3,
     "metadata": {},
     "output_type": "execute_result"
    }
   ],
   "source": [
    "total_male_words = []\n",
    "total_female_words = []\n",
    "dominant = []\n",
    "lead_list = list(dataframe[\"Lead\"])\n",
    "lead_words = list(dataframe[\"Number of words lead\"])\n",
    "male_words = list(dataframe[\"Number words male\"])\n",
    "female_words = list(dataframe[\"Number words female\"])\n",
    "for i in range(len(lead_list)):\n",
    "    if lead_list[i] == 'Male':\n",
    "        total_male_words.append(lead_words[i]+male_words[i])\n",
    "        total_female_words.append(female_words[i])\n",
    "    else:\n",
    "        total_female_words.append(lead_words[i]+female_words[i])\n",
    "        total_male_words.append(male_words[i])\n",
    "dataframe[\"total_male_words\"] = total_male_words\n",
    "dataframe[\"total_female_words\"] = total_female_words\n",
    "\n",
    "\n",
    "for i in range(len(lead_list)):\n",
    "    if total_male_words[i]>total_female_words[i]:\n",
    "        dominant.append(1)\n",
    "    else:\n",
    "        dominant.append(0)\n",
    "dataframe[\"dominant\"] = dominant \n",
    "\n",
    "dataframe.head()\n"
   ]
  },
  {
   "cell_type": "code",
   "execution_count": 4,
   "id": "08a60439",
   "metadata": {},
   "outputs": [],
   "source": [
    "train, test = train_test_split(dataframe, test_size=0.3,shuffle=False)\n",
    "X_train=train[['total_male_words', 'total_female_words','dominant']] #'Total words','Year',,'Mean Age Male', 'Mean Age Female', 'Age Lead', 'Age Co-Lead'\n",
    "Y_train = train[['Lead']].values.ravel()\n",
    "\n",
    "\n",
    "X_test=test[['total_male_words', 'total_female_words','dominant']] #'Total words','Year',,'Mean Age Male', 'Mean Age Female', 'Age Lead', 'Age Co-Lead'\n",
    "Y_test = test[['Lead']].values.ravel()\n"
   ]
  },
  {
   "cell_type": "code",
   "execution_count": 5,
   "id": "b5d8c03a",
   "metadata": {},
   "outputs": [],
   "source": [
    "#hyperparameter tuning\n",
    "parameters = {\n",
    "    'reg_param': (0.000001,0.00001, 0.0001, 0.001,0.01, 0.1),\n",
    "#     'store_covariance': (True, False),\n",
    "#     'tol': (0.0001, 0.001,0.01, 0.1), \n",
    "                   }"
   ]
  },
  {
   "cell_type": "code",
   "execution_count": 6,
   "id": "6d6565d1",
   "metadata": {},
   "outputs": [
    {
     "name": "stdout",
     "output_type": "stream",
     "text": [
      "88.73549419767906\n",
      "19\n",
      "Accuracy: 88.78205128205127 %\n"
     ]
    }
   ],
   "source": [
    "acc_l=[]\n",
    "for i in range(2,25):\n",
    "    model =GridSearchCV(\n",
    "    estimator=skl_da.QuadraticDiscriminantAnalysis(),\n",
    "    param_grid=parameters,\n",
    "    scoring = 'accuracy',\n",
    "    n_jobs = -1,\n",
    "    cv = i\n",
    "    ) \n",
    "    res=model.fit(X=X_train, y=Y_train)\n",
    "    acc_l.append((res.best_score_ )*100)\n",
    "print(max(acc_l))\n",
    "print(acc_l.index(max(acc_l))) \n",
    "model1 =GridSearchCV(\n",
    "    estimator=skl_da.QuadraticDiscriminantAnalysis(),\n",
    "    param_grid=parameters,\n",
    "    scoring = 'accuracy',\n",
    "    n_jobs = -1,\n",
    "    cv = acc_l.index(max(acc_l))\n",
    "    ) \n",
    "res=model1.fit(X_train, Y_train)\n",
    "\n",
    "predict_prob = model1.predict_proba(X_test)\n",
    "prediction = np.empty(len(X_test), dtype=object)\n",
    "prediction = np.where(predict_prob[:, 0]>=0.5, 'Female', 'Male')\n",
    "print('Accuracy:', (np.mean(prediction == Y_test))*100, '%')\n"
   ]
  },
  {
   "cell_type": "code",
   "execution_count": 7,
   "id": "ac3e8690",
   "metadata": {},
   "outputs": [
    {
     "data": {
      "text/plain": [
       "{'reg_param': 1e-06}"
      ]
     },
     "execution_count": 7,
     "metadata": {},
     "output_type": "execute_result"
    }
   ],
   "source": [
    "res.best_params_"
   ]
  },
  {
   "cell_type": "code",
   "execution_count": 8,
   "id": "4fde046b",
   "metadata": {},
   "outputs": [
    {
     "name": "stdout",
     "output_type": "stream",
     "text": [
      "Accuracy:\n",
      "Accuracy: 69.23076923076923\n"
     ]
    }
   ],
   "source": [
    "#naive classifier\n",
    "\n",
    "print('Accuracy:')\n",
    "print('Accuracy:', np.mean(Y_test == 'Male') * 100)"
   ]
  },
  {
   "cell_type": "code",
   "execution_count": 9,
   "id": "ad2268fc",
   "metadata": {},
   "outputs": [
    {
     "name": "stderr",
     "output_type": "stream",
     "text": [
      "/Users/vijayaadhithan/opt/anaconda3/lib/python3.9/site-packages/sklearn/utils/deprecation.py:87: FutureWarning: Function plot_confusion_matrix is deprecated; Function `plot_confusion_matrix` is deprecated in 1.0 and will be removed in 1.2. Use one of the class methods: ConfusionMatrixDisplay.from_predictions or ConfusionMatrixDisplay.from_estimator.\n",
      "  warnings.warn(msg, category=FutureWarning)\n"
     ]
    },
    {
     "data": {
      "text/plain": [
       "<sklearn.metrics._plot.confusion_matrix.ConfusionMatrixDisplay at 0x7fc36fe2adc0>"
      ]
     },
     "execution_count": 9,
     "metadata": {},
     "output_type": "execute_result"
    },
    {
     "data": {
      "image/png": "[encoded data removed]",
      "text/plain": [
       "<Figure size 720x432 with 2 Axes>"
      ]
     },
     "metadata": {
      "needs_background": "light"
     },
     "output_type": "display_data"
    }
   ],
   "source": [
    "from sklearn.metrics import accuracy_score,confusion_matrix,classification_report,plot_confusion_matrix\n",
    "plot_confusion_matrix(model,X_test,Y_test,normalize='true')"
   ]
  },
  {
   "cell_type": "code",
   "execution_count": 10,
   "id": "732df315",
   "metadata": {},
   "outputs": [
    {
     "name": "stdout",
     "output_type": "stream",
     "text": [
      "              precision    recall  f1-score   support\n",
      "\n",
      "      Female       0.89      0.73      0.80        96\n",
      "        Male       0.89      0.96      0.92       216\n",
      "\n",
      "    accuracy                           0.89       312\n",
      "   macro avg       0.89      0.84      0.86       312\n",
      "weighted avg       0.89      0.89      0.88       312\n",
      "\n"
     ]
    }
   ],
   "source": [
    "predict_prob = model.predict_proba(X_test)\n",
    "prediction = np.empty(len(X_test), dtype=object)\n",
    "prediction = np.where(predict_prob[:, 0]>=0.5, 'Female', 'Male')\n",
    "\n",
    "print(classification_report(Y_test,prediction)) #np.concatenate(Y_test.to_numpy())\n",
    "\n"
   ]
  }
 ],
 "metadata": {
  "kernelspec": {
   "display_name": "Python 3 (ipykernel)",
   "language": "python",
   "name": "python3"
  },
  "language_info": {
   "codemirror_mode": {
    "name": "ipython",
    "version": 3
   },
   "file_extension": ".py",
   "mimetype": "text/x-python",
   "name": "python",
   "nbconvert_exporter": "python",
   "pygments_lexer": "ipython3",
   "version": "3.9.12"
  }
 },
 "nbformat": 4,
 "nbformat_minor": 5
}
