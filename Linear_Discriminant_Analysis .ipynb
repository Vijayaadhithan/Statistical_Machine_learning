{
 "cells": [
  {
   "cell_type": "code",
   "execution_count": 1,
   "id": "45b903ca",
   "metadata": {},
   "outputs": [],
   "source": [
    "import pandas as pd\n",
    "import numpy as np\n",
    "import matplotlib.pyplot as plt\n",
    "import sklearn.preprocessing as skl_pre\n",
    "import sklearn.linear_model as skl_lm\n",
    "import sklearn.discriminant_analysis as skl_da\n",
    "from sklearn.model_selection import train_test_split\n",
    "import sklearn.neighbors as skl_nb\n",
    "from sklearn.metrics import confusion_matrix,classification_report,plot_confusion_matrix\n",
    "from sklearn.model_selection import GridSearchCV\n",
    "from sklearn.discriminant_analysis import LinearDiscriminantAnalysis\n",
    "from sklearn.preprocessing import MinMaxScaler"
   ]
  },
  {
   "cell_type": "code",
   "execution_count": 2,
   "id": "b6f19ac9",
   "metadata": {},
   "outputs": [],
   "source": [
    "df = pd.read_csv('train.csv')\n",
    "df1= pd.read_csv('test.csv')"
   ]
  },
  {
   "cell_type": "code",
   "execution_count": 3,
   "id": "c3c9bb42",
   "metadata": {},
   "outputs": [],
   "source": [
    "#df.replace({'Lead': {\"Female\" : 1, \"Male\" : 0}}, inplace=True)"
   ]
  },
  {
   "cell_type": "code",
   "execution_count": 4,
   "id": "c58c5761",
   "metadata": {},
   "outputs": [
    {
     "data": {
      "text/html": [
       "<div>\n",
       "<style scoped>\n",
       "    .dataframe tbody tr th:only-of-type {\n",
       "        vertical-align: middle;\n",
       "    }\n",
       "\n",
       "    .dataframe tbody tr th {\n",
       "        vertical-align: top;\n",
       "    }\n",
       "\n",
       "    .dataframe thead th {\n",
       "        text-align: right;\n",
       "    }\n",
       "</style>\n",
       "<table border=\"1\" class=\"dataframe\">\n",
       "  <thead>\n",
       "    <tr style=\"text-align: right;\">\n",
       "      <th></th>\n",
       "      <th>Number words female</th>\n",
       "      <th>Total words</th>\n",
       "      <th>Number of words lead</th>\n",
       "      <th>Difference in words lead and co-lead</th>\n",
       "      <th>Number of male actors</th>\n",
       "      <th>Year</th>\n",
       "      <th>Number of female actors</th>\n",
       "      <th>Number words male</th>\n",
       "      <th>Gross</th>\n",
       "      <th>Mean Age Male</th>\n",
       "      <th>Mean Age Female</th>\n",
       "      <th>Age Lead</th>\n",
       "      <th>Age Co-Lead</th>\n",
       "      <th>Lead</th>\n",
       "    </tr>\n",
       "  </thead>\n",
       "  <tbody>\n",
       "    <tr>\n",
       "      <th>0</th>\n",
       "      <td>1512</td>\n",
       "      <td>6394</td>\n",
       "      <td>2251.0</td>\n",
       "      <td>343</td>\n",
       "      <td>2</td>\n",
       "      <td>1995</td>\n",
       "      <td>5</td>\n",
       "      <td>2631</td>\n",
       "      <td>142.0</td>\n",
       "      <td>51.500000</td>\n",
       "      <td>42.333333</td>\n",
       "      <td>46.0</td>\n",
       "      <td>65.0</td>\n",
       "      <td>Female</td>\n",
       "    </tr>\n",
       "    <tr>\n",
       "      <th>1</th>\n",
       "      <td>1524</td>\n",
       "      <td>8780</td>\n",
       "      <td>2020.0</td>\n",
       "      <td>1219</td>\n",
       "      <td>9</td>\n",
       "      <td>2001</td>\n",
       "      <td>4</td>\n",
       "      <td>5236</td>\n",
       "      <td>37.0</td>\n",
       "      <td>39.125000</td>\n",
       "      <td>29.333333</td>\n",
       "      <td>58.0</td>\n",
       "      <td>34.0</td>\n",
       "      <td>Male</td>\n",
       "    </tr>\n",
       "    <tr>\n",
       "      <th>2</th>\n",
       "      <td>155</td>\n",
       "      <td>4176</td>\n",
       "      <td>942.0</td>\n",
       "      <td>787</td>\n",
       "      <td>7</td>\n",
       "      <td>1968</td>\n",
       "      <td>1</td>\n",
       "      <td>3079</td>\n",
       "      <td>376.0</td>\n",
       "      <td>42.500000</td>\n",
       "      <td>37.000000</td>\n",
       "      <td>46.0</td>\n",
       "      <td>37.0</td>\n",
       "      <td>Male</td>\n",
       "    </tr>\n",
       "    <tr>\n",
       "      <th>3</th>\n",
       "      <td>1073</td>\n",
       "      <td>9855</td>\n",
       "      <td>3440.0</td>\n",
       "      <td>2623</td>\n",
       "      <td>12</td>\n",
       "      <td>2002</td>\n",
       "      <td>2</td>\n",
       "      <td>5342</td>\n",
       "      <td>19.0</td>\n",
       "      <td>35.222222</td>\n",
       "      <td>21.500000</td>\n",
       "      <td>33.0</td>\n",
       "      <td>23.0</td>\n",
       "      <td>Male</td>\n",
       "    </tr>\n",
       "    <tr>\n",
       "      <th>4</th>\n",
       "      <td>1317</td>\n",
       "      <td>7688</td>\n",
       "      <td>3835.0</td>\n",
       "      <td>3149</td>\n",
       "      <td>8</td>\n",
       "      <td>1988</td>\n",
       "      <td>4</td>\n",
       "      <td>2536</td>\n",
       "      <td>40.0</td>\n",
       "      <td>45.250000</td>\n",
       "      <td>45.000000</td>\n",
       "      <td>36.0</td>\n",
       "      <td>39.0</td>\n",
       "      <td>Male</td>\n",
       "    </tr>\n",
       "  </tbody>\n",
       "</table>\n",
       "</div>"
      ],
      "text/plain": [
       "   Number words female  Total words  Number of words lead  \\\n",
       "0                 1512         6394                2251.0   \n",
       "1                 1524         8780                2020.0   \n",
       "2                  155         4176                 942.0   \n",
       "3                 1073         9855                3440.0   \n",
       "4                 1317         7688                3835.0   \n",
       "\n",
       "   Difference in words lead and co-lead  Number of male actors  Year  \\\n",
       "0                                   343                      2  1995   \n",
       "1                                  1219                      9  2001   \n",
       "2                                   787                      7  1968   \n",
       "3                                  2623                     12  2002   \n",
       "4                                  3149                      8  1988   \n",
       "\n",
       "   Number of female actors  Number words male  Gross  Mean Age Male  \\\n",
       "0                        5               2631  142.0      51.500000   \n",
       "1                        4               5236   37.0      39.125000   \n",
       "2                        1               3079  376.0      42.500000   \n",
       "3                        2               5342   19.0      35.222222   \n",
       "4                        4               2536   40.0      45.250000   \n",
       "\n",
       "   Mean Age Female  Age Lead  Age Co-Lead    Lead  \n",
       "0        42.333333      46.0         65.0  Female  \n",
       "1        29.333333      58.0         34.0    Male  \n",
       "2        37.000000      46.0         37.0    Male  \n",
       "3        21.500000      33.0         23.0    Male  \n",
       "4        45.000000      36.0         39.0    Male  "
      ]
     },
     "execution_count": 4,
     "metadata": {},
     "output_type": "execute_result"
    }
   ],
   "source": [
    "df.head()"
   ]
  },
  {
   "cell_type": "code",
   "execution_count": 5,
   "id": "feeaad08",
   "metadata": {},
   "outputs": [
    {
     "data": {
      "text/html": [
       "<div>\n",
       "<style scoped>\n",
       "    .dataframe tbody tr th:only-of-type {\n",
       "        vertical-align: middle;\n",
       "    }\n",
       "\n",
       "    .dataframe tbody tr th {\n",
       "        vertical-align: top;\n",
       "    }\n",
       "\n",
       "    .dataframe thead th {\n",
       "        text-align: right;\n",
       "    }\n",
       "</style>\n",
       "<table border=\"1\" class=\"dataframe\">\n",
       "  <thead>\n",
       "    <tr style=\"text-align: right;\">\n",
       "      <th></th>\n",
       "      <th>Number words female</th>\n",
       "      <th>Total words</th>\n",
       "      <th>Number of words lead</th>\n",
       "      <th>Difference in words lead and co-lead</th>\n",
       "      <th>Number of male actors</th>\n",
       "      <th>Year</th>\n",
       "      <th>Number of female actors</th>\n",
       "      <th>Number words male</th>\n",
       "      <th>Gross</th>\n",
       "      <th>Mean Age Male</th>\n",
       "      <th>Mean Age Female</th>\n",
       "      <th>Age Lead</th>\n",
       "      <th>Age Co-Lead</th>\n",
       "    </tr>\n",
       "  </thead>\n",
       "  <tbody>\n",
       "    <tr>\n",
       "      <th>0</th>\n",
       "      <td>669</td>\n",
       "      <td>5388</td>\n",
       "      <td>2564.0</td>\n",
       "      <td>2241</td>\n",
       "      <td>8</td>\n",
       "      <td>2005</td>\n",
       "      <td>3</td>\n",
       "      <td>2155</td>\n",
       "      <td>46.0</td>\n",
       "      <td>33.571429</td>\n",
       "      <td>31.0</td>\n",
       "      <td>50.0</td>\n",
       "      <td>18.0</td>\n",
       "    </tr>\n",
       "    <tr>\n",
       "      <th>1</th>\n",
       "      <td>161</td>\n",
       "      <td>3468</td>\n",
       "      <td>1347.0</td>\n",
       "      <td>1186</td>\n",
       "      <td>5</td>\n",
       "      <td>2001</td>\n",
       "      <td>1</td>\n",
       "      <td>1960</td>\n",
       "      <td>278.0</td>\n",
       "      <td>39.600000</td>\n",
       "      <td>34.0</td>\n",
       "      <td>54.0</td>\n",
       "      <td>34.0</td>\n",
       "    </tr>\n",
       "    <tr>\n",
       "      <th>2</th>\n",
       "      <td>1720</td>\n",
       "      <td>14712</td>\n",
       "      <td>2818.0</td>\n",
       "      <td>2231</td>\n",
       "      <td>18</td>\n",
       "      <td>2008</td>\n",
       "      <td>5</td>\n",
       "      <td>10174</td>\n",
       "      <td>53.0</td>\n",
       "      <td>35.615385</td>\n",
       "      <td>40.0</td>\n",
       "      <td>23.0</td>\n",
       "      <td>28.0</td>\n",
       "    </tr>\n",
       "    <tr>\n",
       "      <th>3</th>\n",
       "      <td>3342</td>\n",
       "      <td>24930</td>\n",
       "      <td>11204.0</td>\n",
       "      <td>9912</td>\n",
       "      <td>13</td>\n",
       "      <td>2001</td>\n",
       "      <td>6</td>\n",
       "      <td>10384</td>\n",
       "      <td>81.0</td>\n",
       "      <td>40.416667</td>\n",
       "      <td>30.2</td>\n",
       "      <td>38.0</td>\n",
       "      <td>27.0</td>\n",
       "    </tr>\n",
       "    <tr>\n",
       "      <th>4</th>\n",
       "      <td>1520</td>\n",
       "      <td>14676</td>\n",
       "      <td>4378.0</td>\n",
       "      <td>2858</td>\n",
       "      <td>6</td>\n",
       "      <td>1992</td>\n",
       "      <td>1</td>\n",
       "      <td>8778</td>\n",
       "      <td>131.0</td>\n",
       "      <td>33.833333</td>\n",
       "      <td>34.0</td>\n",
       "      <td>46.0</td>\n",
       "      <td>34.0</td>\n",
       "    </tr>\n",
       "  </tbody>\n",
       "</table>\n",
       "</div>"
      ],
      "text/plain": [
       "   Number words female  Total words  Number of words lead  \\\n",
       "0                  669         5388                2564.0   \n",
       "1                  161         3468                1347.0   \n",
       "2                 1720        14712                2818.0   \n",
       "3                 3342        24930               11204.0   \n",
       "4                 1520        14676                4378.0   \n",
       "\n",
       "   Difference in words lead and co-lead  Number of male actors  Year  \\\n",
       "0                                  2241                      8  2005   \n",
       "1                                  1186                      5  2001   \n",
       "2                                  2231                     18  2008   \n",
       "3                                  9912                     13  2001   \n",
       "4                                  2858                      6  1992   \n",
       "\n",
       "   Number of female actors  Number words male  Gross  Mean Age Male  \\\n",
       "0                        3               2155   46.0      33.571429   \n",
       "1                        1               1960  278.0      39.600000   \n",
       "2                        5              10174   53.0      35.615385   \n",
       "3                        6              10384   81.0      40.416667   \n",
       "4                        1               8778  131.0      33.833333   \n",
       "\n",
       "   Mean Age Female  Age Lead  Age Co-Lead  \n",
       "0             31.0      50.0         18.0  \n",
       "1             34.0      54.0         34.0  \n",
       "2             40.0      23.0         28.0  \n",
       "3             30.2      38.0         27.0  \n",
       "4             34.0      46.0         34.0  "
      ]
     },
     "execution_count": 5,
     "metadata": {},
     "output_type": "execute_result"
    }
   ],
   "source": [
    "df1.head()"
   ]
  },
  {
   "cell_type": "code",
   "execution_count": 6,
   "id": "eadb04f0",
   "metadata": {},
   "outputs": [],
   "source": [
    "#train, test = train_test_split(df, test_size=0.3,shuffle=False)#Data_split"
   ]
  },
  {
   "cell_type": "code",
   "execution_count": 7,
   "id": "b39c4b97",
   "metadata": {},
   "outputs": [],
   "source": [
    "#train_X = train.drop(\"Lead\", axis=1)\n",
    "#train_y = train[\"Lead\"]\n",
    "train_X = df.drop(\"Lead\", axis=1)\n",
    "train_y = df[\"Lead\"]\n",
    "# Create a MinMaxScaler object\n",
    "scaler = MinMaxScaler()\n",
    "\n",
    "# Fit the scaler to the features\n",
    "scaler.fit(train_X)\n",
    "\n",
    "# Transform the features using the scaler\n",
    "X_scaled = scaler.transform(train_X)\n",
    "\n"
   ]
  },
  {
   "cell_type": "code",
   "execution_count": 8,
   "id": "71858326",
   "metadata": {},
   "outputs": [],
   "source": [
    "#test_X=test.drop(\"Lead\", axis=1)\n",
    "#test_y=test[\"Lead\"]\n",
    "test_X=df1[['Number of words lead', 'Number words female', 'Number words male', 'Number of female actors','Number of male actors','Gross','Total words','Difference in words lead and co-lead','Year','Mean Age Male','Mean Age Female','Age Lead','Age Co-Lead']]\n",
    "scaler = MinMaxScaler()\n",
    "\n",
    "# Fit the scaler to the features\n",
    "scaler.fit(test_X)\n",
    "\n",
    "# Transform the features using the scaler\n",
    "y_scaled = scaler.transform(test_X)\n"
   ]
  },
  {
   "cell_type": "code",
   "execution_count": 9,
   "id": "010ff47b",
   "metadata": {},
   "outputs": [
    {
     "data": {
      "text/plain": [
       "LinearDiscriminantAnalysis()"
      ]
     },
     "execution_count": 9,
     "metadata": {},
     "output_type": "execute_result"
    }
   ],
   "source": [
    "model = skl_da.LinearDiscriminantAnalysis()\n",
    "model.fit(X_scaled, train_y)"
   ]
  },
  {
   "cell_type": "code",
   "execution_count": 10,
   "id": "30105d1c",
   "metadata": {},
   "outputs": [],
   "source": [
    "coefficients = model.coef_"
   ]
  },
  {
   "cell_type": "code",
   "execution_count": 11,
   "id": "f8e88f81",
   "metadata": {},
   "outputs": [
    {
     "name": "stdout",
     "output_type": "stream",
     "text": [
      "Index(['Difference in words lead and co-lead'], dtype='object')\n"
     ]
    }
   ],
   "source": [
    "selected_features = train_X.columns[np.argmax(np.abs(coefficients), axis=1)]\n",
    "print(selected_features)"
   ]
  },
  {
   "cell_type": "code",
   "execution_count": 12,
   "id": "3e9b3e85",
   "metadata": {},
   "outputs": [
    {
     "name": "stdout",
     "output_type": "stream",
     "text": [
      "The class order in the model:\n",
      "['Female' 'Male']\n",
      "Examples of predicted probablities for the above classes:\n",
      "['Male' 'Male' 'Female' 'Female' 'Female' 'Male' 'Female' 'Male' 'Female'\n",
      " 'Female' 'Male' 'Female' 'Female' 'Male' 'Male' 'Male' 'Male' 'Male'\n",
      " 'Female' 'Female' 'Male' 'Male' 'Male' 'Male' 'Male' 'Male' 'Male'\n",
      " 'Female' 'Male' 'Male' 'Male' 'Male' 'Male' 'Male' 'Female' 'Male'\n",
      " 'Female' 'Female' 'Male' 'Female' 'Male' 'Female' 'Male' 'Male' 'Female'\n",
      " 'Male' 'Male' 'Male' 'Male' 'Female' 'Male' 'Male' 'Male' 'Female' 'Male'\n",
      " 'Male' 'Male' 'Male' 'Female' 'Male' 'Male' 'Female' 'Male' 'Male' 'Male'\n",
      " 'Male' 'Female' 'Male' 'Female' 'Female' 'Male' 'Female' 'Male' 'Male'\n",
      " 'Male' 'Female' 'Female' 'Female' 'Female' 'Male' 'Female' 'Male' 'Male'\n",
      " 'Male' 'Male' 'Male' 'Female' 'Female' 'Female' 'Female' 'Male' 'Male'\n",
      " 'Male' 'Female' 'Female' 'Male' 'Male' 'Female' 'Male' 'Female']\n"
     ]
    }
   ],
   "source": [
    "pred = model.predict(y_scaled)\n",
    "print('The class order in the model:')\n",
    "print(model.classes_)\n",
    "print('Examples of predicted probablities for the above classes:')\n",
    "with np.printoptions(suppress=True, precision=3): # Supress scientific notaion, e.g. 1.0e-2.\n",
    "    print(pred[0:100]) # inspect n predictions"
   ]
  },
  {
   "cell_type": "code",
   "execution_count": 13,
   "id": "6289a857",
   "metadata": {},
   "outputs": [
    {
     "name": "stdout",
     "output_type": "stream",
     "text": [
      "First Ten predictions:\n",
      "['Female' 'Male' 'Male' 'Male' 'Male' 'Male' 'Male' 'Male' 'Male' 'Male'] \n",
      "\n",
      "Confusion matrix:\n",
      "Lead    Female  Male\n",
      "row_0               \n",
      "Female     151    33\n",
      "Male       103   752 \n",
      "\n",
      "Accuracy: 0.87\n"
     ]
    }
   ],
   "source": [
    "pred1=model.predict(X_scaled)\n",
    "print(\"First Ten predictions:\")\n",
    "print(pred1[0:10], '\\n')# Inspect the first 10 predictions after labeling.\n",
    "print(\"Confusion matrix:\") #Confusion Matrix\n",
    "print(pd.crosstab(pred1, train_y),'\\n')\n",
    "print(f\"Accuracy: {np.mean(pred1 == train_y):.2f}\")"
   ]
  },
  {
   "cell_type": "code",
   "execution_count": 14,
   "id": "0aa55d40",
   "metadata": {},
   "outputs": [
    {
     "name": "stdout",
     "output_type": "stream",
     "text": [
      "              precision    recall  f1-score   support\n",
      "\n",
      "      Female       0.82      0.59      0.69       254\n",
      "        Male       0.88      0.96      0.92       785\n",
      "\n",
      "    accuracy                           0.87      1039\n",
      "   macro avg       0.85      0.78      0.80      1039\n",
      "weighted avg       0.87      0.87      0.86      1039\n",
      "\n"
     ]
    }
   ],
   "source": [
    "print(classification_report(train_y,pred1))"
   ]
  },
  {
   "cell_type": "code",
   "execution_count": 15,
   "id": "37417ed5",
   "metadata": {},
   "outputs": [
    {
     "name": "stderr",
     "output_type": "stream",
     "text": [
      "/Users/vijayaadhithan/opt/anaconda3/lib/python3.9/site-packages/sklearn/utils/deprecation.py:87: FutureWarning: Function plot_confusion_matrix is deprecated; Function `plot_confusion_matrix` is deprecated in 1.0 and will be removed in 1.2. Use one of the class methods: ConfusionMatrixDisplay.from_predictions or ConfusionMatrixDisplay.from_estimator.\n",
      "  warnings.warn(msg, category=FutureWarning)\n"
     ]
    },
    {
     "data": {
      "text/plain": [
       "<sklearn.metrics._plot.confusion_matrix.ConfusionMatrixDisplay at 0x7fbf8ec25dc0>"
      ]
     },
     "execution_count": 15,
     "metadata": {},
     "output_type": "execute_result"
    },
    {
     "data": {
      "image/png": "[encoded data removed]",
      "text/plain": [
       "<Figure size 432x288 with 2 Axes>"
      ]
     },
     "metadata": {
      "needs_background": "light"
     },
     "output_type": "display_data"
    }
   ],
   "source": [
    "plot_confusion_matrix(model,X_scaled,train_y,normalize='true')"
   ]
  },
  {
   "cell_type": "code",
   "execution_count": 16,
   "id": "431743c8",
   "metadata": {},
   "outputs": [
    {
     "name": "stdout",
     "output_type": "stream",
     "text": [
      "0.87 accuracy with a standard deviation of 0.03\n"
     ]
    }
   ],
   "source": [
    "from sklearn.model_selection import cross_val_score\n",
    "scores = cross_val_score(model, X_scaled, train_y, cv=10)\n",
    "print(\"%0.2f accuracy with a standard deviation of %0.2f\" % (scores.mean(), scores.std()))"
   ]
  },
  {
   "cell_type": "code",
   "execution_count": 17,
   "id": "72f4741a",
   "metadata": {},
   "outputs": [
    {
     "name": "stdout",
     "output_type": "stream",
     "text": [
      "Mean Accuracy: 0.87\n",
      "Config: {'solver': 'svd'}\n"
     ]
    },
    {
     "name": "stderr",
     "output_type": "stream",
     "text": [
      "/Users/vijayaadhithan/opt/anaconda3/lib/python3.9/site-packages/sklearn/model_selection/_validation.py:372: FitFailedWarning: \n",
      "6 fits failed out of a total of 30.\n",
      "The score on these train-test partitions for these parameters will be set to nan.\n",
      "If these failures are not expected, you can try to debug them by setting error_score='raise'.\n",
      "\n",
      "Below are more details about the failures:\n",
      "--------------------------------------------------------------------------------\n",
      "6 fits failed with the following error:\n",
      "Traceback (most recent call last):\n",
      "  File \"/Users/vijayaadhithan/opt/anaconda3/lib/python3.9/site-packages/sklearn/model_selection/_validation.py\", line 680, in _fit_and_score\n",
      "    estimator.fit(X_train, y_train, **fit_params)\n",
      "  File \"/Users/vijayaadhithan/opt/anaconda3/lib/python3.9/site-packages/sklearn/discriminant_analysis.py\", line 599, in fit\n",
      "    self._solve_eigen(\n",
      "  File \"/Users/vijayaadhithan/opt/anaconda3/lib/python3.9/site-packages/sklearn/discriminant_analysis.py\", line 440, in _solve_eigen\n",
      "    evals, evecs = linalg.eigh(Sb, Sw)\n",
      "  File \"/Users/vijayaadhithan/opt/anaconda3/lib/python3.9/site-packages/scipy/linalg/decomp.py\", line 578, in eigh\n",
      "    raise LinAlgError('The leading minor of order {} of B is not '\n",
      "numpy.linalg.LinAlgError: The leading minor of order 8 of B is not positive definite. The factorization of B could not be completed and no eigenvalues or eigenvectors were computed.\n",
      "\n",
      "  warnings.warn(some_fits_failed_message, FitFailedWarning)\n",
      "/Users/vijayaadhithan/opt/anaconda3/lib/python3.9/site-packages/sklearn/model_selection/_search.py:969: UserWarning: One or more of the test scores are non-finite: [0.86910941 0.86910941        nan]\n",
      "  warnings.warn(\n"
     ]
    }
   ],
   "source": [
    "#Tune LDA Hyperparameters\n",
    "model = LinearDiscriminantAnalysis()\n",
    "# define grid\n",
    "grid = dict()\n",
    "grid['solver'] = [ 'svd','lsqr','eigen']\n",
    "# define search\n",
    "search = GridSearchCV(model, grid, scoring='accuracy', cv=10)\n",
    "# perform the search\n",
    "results = search.fit(X_scaled, train_y)\n",
    "# summarize\n",
    "print('Mean Accuracy: %.2f' % results.best_score_)\n",
    "print('Config: %s' % results.best_params_)"
   ]
  },
  {
   "cell_type": "code",
   "execution_count": 18,
   "id": "d51da3db",
   "metadata": {},
   "outputs": [
    {
     "name": "stdout",
     "output_type": "stream",
     "text": [
      "Accuracy:\n",
      "0.76\n"
     ]
    }
   ],
   "source": [
    "#naive classifier\n",
    "print('Accuracy:')\n",
    "print(f\"{np.mean(train_y == 'Male'):.2f}\")"
   ]
  },
  {
   "cell_type": "code",
   "execution_count": 19,
   "id": "1616ac69",
   "metadata": {},
   "outputs": [
    {
     "name": "stdout",
     "output_type": "stream",
     "text": [
      "<class 'numpy.ndarray'>\n"
     ]
    }
   ],
   "source": [
    "print(type(pred))"
   ]
  },
  {
   "cell_type": "code",
   "execution_count": 20,
   "id": "c544a8ca",
   "metadata": {},
   "outputs": [
    {
     "name": "stdout",
     "output_type": "stream",
     "text": [
      "1    246\n",
      "0    141\n",
      "Name: 0, dtype: int64\n"
     ]
    },
    {
     "data": {
      "image/png": "[encoded data removed]",
      "text/plain": [
       "<Figure size 432x288 with 1 Axes>"
      ]
     },
     "metadata": {
      "needs_background": "light"
     },
     "output_type": "display_data"
    }
   ],
   "source": [
    "df2 = pd.DataFrame(pred)\n",
    "df2.replace([\"Male\",\"Female\"],[1,0],inplace=True)\n",
    "color_wheel = {1: \"#0392cf\", \n",
    "               2: \"#7bc043\"}\n",
    "colors = df2[0].map(lambda x: color_wheel.get(x + 1))\n",
    "print(df2[0].value_counts())\n",
    "p=df2[0].value_counts().plot(kind=\"bar\")"
   ]
  },
  {
   "cell_type": "code",
   "execution_count": null,
   "id": "34266d9f",
   "metadata": {},
   "outputs": [],
   "source": []
  }
 ],
 "metadata": {
  "kernelspec": {
   "display_name": "Python 3 (ipykernel)",
   "language": "python",
   "name": "python3"
  },
  "language_info": {
   "codemirror_mode": {
    "name": "ipython",
    "version": 3
   },
   "file_extension": ".py",
   "mimetype": "text/x-python",
   "name": "python",
   "nbconvert_exporter": "python",
   "pygments_lexer": "ipython3",
   "version": "3.9.12"
  }
 },
 "nbformat": 4,
 "nbformat_minor": 5
}
