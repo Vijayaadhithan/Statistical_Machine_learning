{
 "cells": [
  {
   "cell_type": "code",
   "execution_count": 1,
   "id": "354dbbfd",
   "metadata": {},
   "outputs": [],
   "source": [
    "import pandas as pd\n",
    "import numpy as np\n",
    "import matplotlib.pyplot as plt\n",
    "\n",
    "import sklearn.preprocessing as skl_pre\n",
    "import sklearn.linear_model as skl_lm\n",
    "import sklearn.discriminant_analysis as skl_da\n",
    "import sklearn.neighbors as skl_nb\n",
    "from sklearn.model_selection import train_test_split\n",
    "#from IPython.display import set_matplotlib_formats\n",
    "#set_matplotlib_formats('png')\n",
    "from IPython.core.pylabtools import figsize\n",
    "figsize(10, 6) # Width and hight\n",
    "#plt.style.use('seaborn-white')\n",
    "from sklearn.model_selection import GridSearchCV\n",
    "from sklearn.metrics import accuracy_score,confusion_matrix,classification_report,plot_confusion_matrix\n",
    "from sklearn import tree\n",
    "from sklearn.ensemble import BaggingClassifier, RandomForestClassifier\n",
    "#import graphviz\n"
   ]
  },
  {
   "cell_type": "code",
   "execution_count": 2,
   "id": "d189c9d1",
   "metadata": {},
   "outputs": [],
   "source": [
    "dataframe = pd.read_csv(\"train.csv\")\n",
    "dataframe_tst=pd.read_csv(\"test.csv\")\n",
    "#dataframe_tst=pd.read_csv(\"test.csv\")"
   ]
  },
  {
   "cell_type": "code",
   "execution_count": 3,
   "id": "954d1dbd",
   "metadata": {},
   "outputs": [
    {
     "data": {
      "text/plain": [
       "['Number words female',\n",
       " 'Total words',\n",
       " 'Number of words lead',\n",
       " 'Difference in words lead and co-lead',\n",
       " 'Number of male actors',\n",
       " 'Year',\n",
       " 'Number of female actors',\n",
       " 'Number words male',\n",
       " 'Gross',\n",
       " 'Mean Age Male',\n",
       " 'Mean Age Female',\n",
       " 'Age Lead',\n",
       " 'Age Co-Lead',\n",
       " 'Words_per_actor_F',\n",
       " 'Words_per_actor_M',\n",
       " 'Word_ratio_female',\n",
       " 'Word_ratio_male',\n",
       " 'Age_diff_lead&Co-Lead']"
      ]
     },
     "execution_count": 3,
     "metadata": {},
     "output_type": "execute_result"
    }
   ],
   "source": [
    "from sklearn.datasets import load_iris\n",
    "from sklearn.feature_selection import SelectKBest\n",
    "from sklearn.feature_selection import f_classif, chi2\n",
    "\n",
    "\n",
    "X=dataframe[[ 'Number words female', 'Total words', 'Number of words lead','Difference in words lead and co-lead', 'Number of male actors', 'Year','Number of female actors', 'Gross','Age Lead', 'Age Co-Lead']]\n",
    "Y=dataframe[['Lead']]\n",
    "\n",
    "for df in dataframe,dataframe_tst:\n",
    "    \n",
    "    df['Words_per_actor_F'] = df['Number words female']/df['Number of female actors']\n",
    "    df['Words_per_actor_M'] = df['Number words male']/df['Number of male actors']\n",
    "    df['Word_ratio_female'] = df['Number words female'] / df['Total words']\n",
    "    df['Word_ratio_male'] = df['Number words male'] / df['Total words']\n",
    "    df['Age_diff_lead&Co-Lead']= abs(df['Age Lead'] - df['Age Co-Lead'])\n",
    "    \n",
    "train, test = train_test_split(dataframe, test_size=0.3,shuffle=False)\n",
    "X1=dataframe.loc[:,~dataframe.columns.isin(['Lead'])]\n",
    "feature_names = list(X1.columns.values)\n",
    "feature_names\n"
   ]
  },
  {
   "cell_type": "code",
   "execution_count": 4,
   "id": "33acc814",
   "metadata": {},
   "outputs": [
    {
     "name": "stdout",
     "output_type": "stream",
     "text": [
      "85.54804804804806\n",
      "18\n",
      "Accuracy = 0.7692307692307693\n",
      "Precision = 0.8214285714285714\n",
      "Sensitivity = 0.8518518518518519\n",
      "Specificity = 0.5833333333333334\n"
     ]
    }
   ],
   "source": [
    "#hyperparameter tuning\n",
    "\n",
    "\n",
    "# criterion = ['gini', 'entropy','log_loss']\n",
    "# max_depth = [2,4,6,8,10,12]\n",
    "\n",
    "\n",
    "parameters = {\"criterion\":('gini', 'entropy'),\n",
    "                }\n",
    "acc_l=[]\n",
    "itr=[]\n",
    "\n",
    "for i in [3,4,5,6,7,8,9,10,11,12,14,13,15,20,25,30,40,50,60,70,80,90,100,125,150,200]:\n",
    "    itr.append(i)\n",
    "parameters[\"max_depth\"]=tuple(itr)\n",
    "\n",
    "\n",
    "fvalue_Best = SelectKBest(chi2, k=12)\n",
    "X_kbest = fvalue_Best.fit_transform(X1, Y)\n",
    "#print(X_kbest)\n",
    "\n",
    "# print('Original number of features:', X1.shape)\n",
    "# print('Reduced number of features:', X_kbest.shape)\n",
    "\n",
    "mask = fvalue_Best.get_support() #list of booleans\n",
    "new_features = [] # The list of your K best features\n",
    "\n",
    "for bool, feature in zip(mask, feature_names):\n",
    "    if bool:\n",
    "        new_features.append(feature)\n",
    "\n",
    "X_train=train.loc[:,dataframe.columns.isin(new_features)]\n",
    "Y_train=train[['Lead']]\n",
    "X_test=test.loc[:,dataframe.columns.isin(new_features)]\n",
    "Y_test=test[['Lead']]\n",
    "for i in range(2,25):\n",
    "    model =GridSearchCV(\n",
    "    estimator=tree.DecisionTreeClassifier(),\n",
    "    param_grid=parameters,\n",
    "    scoring = 'accuracy',\n",
    "    n_jobs = -1,\n",
    "    cv = i\n",
    "    ) \n",
    "    res=model.fit(X=X_train, y=Y_train)\n",
    "    acc_l.append((res.best_score_ )*100)\n",
    "print(max(acc_l))\n",
    "print(acc_l.index(max(acc_l))) \n",
    "model =GridSearchCV(\n",
    "    estimator=tree.DecisionTreeClassifier(),\n",
    "    param_grid=parameters,\n",
    "    scoring = 'accuracy',\n",
    "    n_jobs = -1,\n",
    "    cv = acc_l.index(max(acc_l))\n",
    "    ) \n",
    "res=model.fit(X_train, Y_train.values.ravel())\n",
    "prediction = model.predict(X_test)\n",
    "tn, fp, fn, tp = confusion_matrix(Y_test, prediction).ravel()\n",
    "print(\"Accuracy =\",(tp+tn)/(tp+fp+tn+fn))\n",
    "print(\"Precision =\",(tp)/(tp+fp))\n",
    "print(\"Sensitivity =\",(tp)/(tp+fn))\n",
    "print(\"Specificity =\",(tn)/(fp+tn))\n",
    "\n",
    "# predict_prob = model.predict_proba(X_test)\n",
    "# prediction = np.empty(len(X_test), dtype=object)\n",
    "# prediction = np.where(predict_prob[:, 0]>=0.5, 'Female', 'Male')\n",
    "# print('Accuracy:',(np.mean(prediction == np.concatenate(Y_test.to_numpy())))*100,'%')\n",
    "\n",
    "# print('Accuracy:',(res.best_score_ )*100,\"%\")\n",
    "# res.best_params_\n",
    "#model = tree.DecisionTreeClassifier(max_depth=3)\n",
    "#model.fit(X=X_train, y=Y_train)"
   ]
  },
  {
   "cell_type": "code",
   "execution_count": 5,
   "id": "31070e11",
   "metadata": {},
   "outputs": [],
   "source": [
    "# Accuracy = 0.7564102564102564\n",
    "# Precision = 0.7941176470588235\n",
    "# Sensitivity = 0.875\n",
    "# Specificity = 0.4895833333333333"
   ]
  },
  {
   "cell_type": "code",
   "execution_count": 6,
   "id": "164fa562",
   "metadata": {},
   "outputs": [
    {
     "name": "stderr",
     "output_type": "stream",
     "text": [
      "/Users/vijayaadhithan/opt/anaconda3/lib/python3.9/site-packages/sklearn/utils/deprecation.py:87: FutureWarning: Function plot_confusion_matrix is deprecated; Function `plot_confusion_matrix` is deprecated in 1.0 and will be removed in 1.2. Use one of the class methods: ConfusionMatrixDisplay.from_predictions or ConfusionMatrixDisplay.from_estimator.\n",
      "  warnings.warn(msg, category=FutureWarning)\n"
     ]
    },
    {
     "data": {
      "text/plain": [
       "<sklearn.metrics._plot.confusion_matrix.ConfusionMatrixDisplay at 0x7ff24eb5ba30>"
      ]
     },
     "execution_count": 6,
     "metadata": {},
     "output_type": "execute_result"
    },
    {
     "data": {
      "image/png": "[encoded data removed]",
      "text/plain": [
       "<Figure size 720x432 with 2 Axes>"
      ]
     },
     "metadata": {
      "needs_background": "light"
     },
     "output_type": "display_data"
    }
   ],
   "source": [
    "plot_confusion_matrix(model,X_test,Y_test,normalize='true')"
   ]
  },
  {
   "cell_type": "code",
   "execution_count": 7,
   "id": "905f106d",
   "metadata": {},
   "outputs": [
    {
     "name": "stdout",
     "output_type": "stream",
     "text": [
      "              precision    recall  f1-score   support\n",
      "\n",
      "      Female       0.64      0.58      0.61        96\n",
      "        Male       0.82      0.85      0.84       216\n",
      "\n",
      "    accuracy                           0.77       312\n",
      "   macro avg       0.73      0.72      0.72       312\n",
      "weighted avg       0.76      0.77      0.77       312\n",
      "\n"
     ]
    }
   ],
   "source": [
    "predict_prob = model.predict_proba(X_test)\n",
    "prediction = np.empty(len(X_test), dtype=object)\n",
    "prediction = np.where(predict_prob[:, 0]>=0.5, 'Female', 'Male')\n",
    "\n",
    "print(classification_report(Y_test,prediction)) #np.concatenate(Y_test.to_numpy())"
   ]
  },
  {
   "cell_type": "code",
   "execution_count": 8,
   "id": "ca7a5c7d",
   "metadata": {},
   "outputs": [
    {
     "name": "stdout",
     "output_type": "stream",
     "text": [
      "Accuracy:\n",
      "0.692\n"
     ]
    }
   ],
   "source": [
    "#naive classifier\n",
    "print('Accuracy:')\n",
    "print(f\"{np.mean(np.concatenate(Y_test.to_numpy()) == 'Male'):.3f}\")"
   ]
  },
  {
   "cell_type": "code",
   "execution_count": null,
   "id": "2b5d937f",
   "metadata": {},
   "outputs": [],
   "source": []
  }
 ],
 "metadata": {
  "kernelspec": {
   "display_name": "Python 3 (ipykernel)",
   "language": "python",
   "name": "python3"
  },
  "language_info": {
   "codemirror_mode": {
    "name": "ipython",
    "version": 3
   },
   "file_extension": ".py",
   "mimetype": "text/x-python",
   "name": "python",
   "nbconvert_exporter": "python",
   "pygments_lexer": "ipython3",
   "version": "3.9.12"
  }
 },
 "nbformat": 4,
 "nbformat_minor": 5
}
